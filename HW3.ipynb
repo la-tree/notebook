{
 "cells": [
  {
   "cell_type": "markdown",
   "id": "0323ec0c",
   "metadata": {},
   "source": [
    "# Homework 2: Leaning about Datasets\n",
    "## LA County Urban Tree Canopy Cover \n",
    "#### By Paloma Cartwright, Halina Do-Linh, and Mia Forsline\n",
    "#### Due 2021-11-05\n",
    "#### EDS 220: Remote Sensing "
   ]
  },
  {
   "cell_type": "markdown",
   "id": "0a7e75f1",
   "metadata": {},
   "source": [
    "# 1. Write code to load in the dataset "
   ]
  },
  {
   "cell_type": "code",
   "execution_count": 1,
   "id": "f7602f90",
   "metadata": {},
   "outputs": [
    {
     "ename": "ModuleNotFoundError",
     "evalue": "No module named 'hvplot'",
     "output_type": "error",
     "traceback": [
      "\u001b[0;31m---------------------------------------------------------------------------\u001b[0m",
      "\u001b[0;31mModuleNotFoundError\u001b[0m                       Traceback (most recent call last)",
      "\u001b[0;32m/var/folders/83/7nnjq7v91l79z5mtwjwkvgtc0000gn/T/ipykernel_3810/3303152098.py\u001b[0m in \u001b[0;36m<module>\u001b[0;34m\u001b[0m\n\u001b[1;32m     11\u001b[0m \u001b[0mget_ipython\u001b[0m\u001b[0;34m(\u001b[0m\u001b[0;34m)\u001b[0m\u001b[0;34m.\u001b[0m\u001b[0mrun_line_magic\u001b[0m\u001b[0;34m(\u001b[0m\u001b[0;34m'matplotlib'\u001b[0m\u001b[0;34m,\u001b[0m \u001b[0;34m'inline'\u001b[0m\u001b[0;34m)\u001b[0m\u001b[0;34m\u001b[0m\u001b[0;34m\u001b[0m\u001b[0m\n\u001b[1;32m     12\u001b[0m \u001b[0;32mimport\u001b[0m \u001b[0mfolium\u001b[0m\u001b[0;34m\u001b[0m\u001b[0;34m\u001b[0m\u001b[0m\n\u001b[0;32m---> 13\u001b[0;31m \u001b[0;32mimport\u001b[0m \u001b[0mhvplot\u001b[0m\u001b[0;34m.\u001b[0m\u001b[0mpandas\u001b[0m\u001b[0;34m\u001b[0m\u001b[0;34m\u001b[0m\u001b[0m\n\u001b[0m",
      "\u001b[0;31mModuleNotFoundError\u001b[0m: No module named 'hvplot'"
     ]
    }
   ],
   "source": [
    "import geopandas as gpd \n",
    "import rasterio as rio\n",
    "from rasterio.plot import show\n",
    "#import numpy as np\n",
    "import pandas as pd\n",
    "import matplotlib.image as mpimg\n",
    "import matplotlib.pyplot as plt\n",
    "import cartopy.crs as ccrs\n",
    "#import os\n",
    "import contextily as ctx\n",
    "%matplotlib inline\n",
    "import folium\n",
    "import hvplot.pandas"
   ]
  },
  {
   "cell_type": "markdown",
   "id": "e6189f5b-1e93-48ae-afc8-0c288487660a",
   "metadata": {},
   "source": [
    "## Exploring the LA County Data \n",
    "- read in LA County shapefile "
   ]
  },
  {
   "cell_type": "code",
   "execution_count": null,
   "id": "6fbed4a1-3c6f-4adb-8a65-8f054faa7252",
   "metadata": {},
   "outputs": [],
   "source": [
    "aoiFile = \"data/Tree_Canopy_LA/geo_export_36bb7874-a8f8-4d1c-b3f3-23eca2fca1af.shp\"\n",
    "\n",
    "AOI = gpd.read_file(aoiFile)\n",
    "AOI.crs = \"EPSG:4326\"\n",
    "#AOI.crs= \"EPSG:4326\" #({'init': 'epsg:4326'})\n",
    "\n",
    "proj = ccrs.PlateCarree()\n",
    "fig = plt.figure(figsize = (10, 6), dpi = 300)\n",
    "ax = plt.axes(projection = proj)\n",
    "\n",
    "#name AOI\n",
    "AOI.plot('imperv_p', ax = ax, legend = True)\n",
    "\n",
    "#add basemap \n",
    "ctx.add_basemap(ax, crs = \"EPSG:4326\", source = ctx.providers.CartoDB.Positron); \n",
    "\n",
    "#add title and axes titles \n",
    "plt.title(\"% Impervious Surfaces in Los Angeles County for 2014\")\n",
    "plt.xlabel(\"Longitude\")\n",
    "plt.ylabel(\"Latitude\")"
   ]
  },
  {
   "cell_type": "code",
   "execution_count": null,
   "id": "40a439ce",
   "metadata": {},
   "outputs": [],
   "source": [
    "#examine other column names that we can plot \n",
    "AOI.head()"
   ]
  },
  {
   "cell_type": "markdown",
   "id": "f44600fe",
   "metadata": {},
   "source": [
    "# LA Tree Canopy CSV"
   ]
  },
  {
   "cell_type": "code",
   "execution_count": null,
   "id": "84e0246b-5b4a-40fd-a417-f8c1ce9805d3",
   "metadata": {},
   "outputs": [],
   "source": [
    "#read in the data\n",
    "#set the CRS (WGS 84 - units: degrees)\n",
    "treeCanopyLA = gpd.read_file(\"data/Tree_Canopy_in_Urban_and_Non-Urban_LA_County__2014_.csv\")\n",
    "tcLA = treeCanopyLA.set_crs(\"EPSG:4326\")\n",
    "tcLA = tcLA.to_crs(\"EPSG:4326\")\n",
    "tcLA.crs"
   ]
  },
  {
   "cell_type": "code",
   "execution_count": null,
   "id": "413fa5f4-ad23-4bf0-a702-8ac8f8a5c06b",
   "metadata": {},
   "outputs": [],
   "source": [
    "#check CSV column names - we are interested in Can_P\n",
    "tcLA.head()"
   ]
  },
  {
   "cell_type": "code",
   "execution_count": null,
   "id": "cf7a961b",
   "metadata": {},
   "outputs": [],
   "source": [
    "# move the geometry info from `the_geom` column to the `geometry` column \n",
    "#create a GeoSeries from the dataframe\n",
    "#create a GeoDataFrame from the GeoSeries\n",
    "#check data types to ensure the `geometry` column is a geometry \n",
    "tcLA['geometry'] = tcLA['the_geom']\n",
    "tcLA['geometry'] = gpd.GeoSeries.from_wkt(tcLA['geometry'])\n",
    "tcLA_gdf = gpd.GeoDataFrame(tcLA, geometry='geometry')\n",
    "print(tcLA_gdf.dtypes)"
   ]
  },
  {
   "cell_type": "code",
   "execution_count": null,
   "id": "3d7e0e91",
   "metadata": {},
   "outputs": [],
   "source": [
    "#check CRS (WGS 84)\n",
    "tcLA_gdf.crs"
   ]
  },
  {
   "cell_type": "code",
   "execution_count": null,
   "id": "fe3ca3f4",
   "metadata": {},
   "outputs": [],
   "source": [
    "#ensure % canopy cover (Can_P) is a numeric column \n",
    "#can you calculate a mean/max/etc. ? \n",
    "#check `Can_P` is a numeric (float64)\n",
    "tcLA['Can_P'] = pd.to_numeric(tcLA['Can_P'])\n",
    "tcLA['Can_P'].max()\n",
    "tcLA_gdf['Can_P'] = pd.to_numeric(tcLA['Can_P'])\n",
    "tcLA_gdf['Can_P'].max()\n",
    "print(tcLA_gdf.dtypes)"
   ]
  },
  {
   "cell_type": "code",
   "execution_count": null,
   "id": "12505427",
   "metadata": {},
   "outputs": [],
   "source": [
    "#plot % canopy cover\n",
    "proj = ccrs.PlateCarree()\n",
    "fig = plt.figure(figsize = (10, 6), dpi = 300)\n",
    "ax = plt.axes(projection = proj)\n",
    "\n",
    "tcLA.plot('Can_P', ax=ax, legend = True)\n",
    "tcLAt = tcLA.explore()\n",
    "\n",
    "#add basemap \n",
    "ctx.add_basemap(ax, crs=\"EPSG:4326\", source=ctx.providers.CartoDB.Positron); \n",
    "\n",
    "#add title and axes titles \n",
    "plt.title(\"% Canopy Cover in Los Angeles County for 2014\")\n",
    "plt.xlabel(\"Longitude\")\n",
    "plt.ylabel(\"Latitude\")\n"
   ]
  },
  {
   "cell_type": "markdown",
   "id": "d291003c",
   "metadata": {},
   "source": [
    "# Redlining in LA County "
   ]
  },
  {
   "cell_type": "code",
   "execution_count": null,
   "id": "6560c71f",
   "metadata": {},
   "outputs": [],
   "source": [
    "red = gpd.read_file(\"data/redlining/CALosAngeles1939/cartodb-query.shp\")\n",
    "red.head()"
   ]
  },
  {
   "cell_type": "code",
   "execution_count": null,
   "id": "a62c6f4a",
   "metadata": {},
   "outputs": [],
   "source": [
    "#plot % canopy cover\n",
    "proj = ccrs.PlateCarree()\n",
    "fig = plt.figure(figsize = (10, 6), dpi = 300)\n",
    "ax = plt.axes(projection = proj)\n",
    "\n",
    "tcLA.plot(column = \"Can_P\", ax=ax)\n",
    "red.plot(column = 'holc_grade', ax=ax, legend = True, cmap = 'YlOrRd', \n",
    "         legend_kwds={'title': \"Grade\"}, alpha = 0.7)\n",
    "\n",
    "#add basemap \n",
    "ctx.add_basemap(ax, crs=\"EPSG:4326\", source=ctx.providers.Stamen.TonerLite); "
   ]
  },
  {
   "cell_type": "markdown",
   "id": "d2f2d8cb",
   "metadata": {},
   "source": [
    "# 2. Investigate data quality"
   ]
  },
  {
   "cell_type": "markdown",
   "id": "a2444456",
   "metadata": {},
   "source": [
    "The **Tree Canopy in Urban and Non-Urban LA County (2014)** dataset we downloaded from LA County's Open Data site is a combination of two datasets:\n",
    "\n",
    "1. LA County tree canopy data from TreePeople and the University of Vermont.\n",
    "2. 2014 imagery of LA County land cover data from the Los Angeles Regional Imagery Acquistion Consortium (LARIAC).\n",
    "\n",
    "There is more data collection information and metadata about the land cover data than there is about the tree canopy data. We have reached out to the data owners requesting more metadata, but have not received a response yet. \n",
    "\n",
    "Additionally, the data set was combined with census tract data. \n",
    "\n",
    "The tree canopy data used high-resolution remote sensing data to create fine scale 8-class land cover. From the 2015 *Tree Canopy Assessment: Los Angeles Coastal Zone* report, it appears high resolution land cover data from 2014 was combined with LiDAR data from 2009 to obtain inforamation about the structure of urban forests. With this data, individual trees could be detected (i.e. as small as 8ft) and it is currently the most accurate accounting of tree canopy ever completed for LA.\n",
    "\n",
    "Because there is limited metadata on the tree canopy data that was acquired using LiDAR, we can not determine if there is any systematic biases or limitation from the instruments used for the LiDAR data. \n",
    "\n",
    "The land cover data comes from the LARIAC which is a program for obtaining digital aerial imagery data in collaboration with 30+ County departments, 40+ municipalities, and other public agencies. Since the data is used for multiple and varying reasons for numerous agencies, the data is of high quality and is easily accessible. \n",
    "\n",
    "LARIAC captures ortho and oblique imagery every 3 years. Ortho imagery removes the effects of tilt and relief to show the true features of the image. Oblique imagery is aerial photography that is collected at an angle (usually 40 or 50 degrees) which allows viewers to see the sides of objects in addition to the top of objects and gives a more natural viewing of the landscape. \n",
    "\n",
    "Collection and post-processing of the LARIAC land cover data was done by the company, EagleView. The processed imagery produced a 4-band (RGBNIR), 32-bit (8-bit per channel) digital orthophotos at 4-inch and 9-inch pixel resolution for project areas with no overlap between areas. The 4 x 9 inch pixels were color balanced independently. \n",
    "\n",
    "After post-processing, the imagery undergoes rigorous quality assurance and quality control by Dewberry Engingeers Inc. From the QA/QC report we did not see any systematic biases or limitations listed about the instruments.\n",
    "\n",
    "\n",
    "The most significant limitation with the **Tree Canopy in Urban and Non-Urban LA County (2014)** dataset is that it is outdated. Both datasets are more than 5 years old. However, LARIAC land cover data has been udpated with 2020 data and it is possible for us to combine tree canopy data with the 2020 land cover data."
   ]
  },
  {
   "cell_type": "markdown",
   "id": "954ddca5",
   "metadata": {},
   "source": [
    "# 3. Consider appropriate use cases \n",
    "\n",
    "This 2014 Los Angeles County urban tree cover data is appropriate for identifying areas in LA county with relatively higher or lower tree canopy cover based on the calculated % canopy coverage. This gives a snapshot of what tree canopy cover looked like during this year. Combined with other data sets, this could help answer a variety of interesting questions. \n",
    "\n",
    "For example, we could compare 2014 LA County tree cover with socioeconomic data such as 2014 annual average/median income or ethnicity/race to determine if there are correlations between greenery in LA and socioeconomic status. \n",
    "\n",
    "In addition to comparing various data within the same year, we could overlay a map of historical redlining in LA to investigate how historical inequalities might have influenced today's built environment. Similarly, we could compare tree canopy cover data in LA County from a different year to explore changes over time. For instance, if a tree policy was enacted after 2014, we could compare 2014 and 2020 tree canopy cover data to see if there was an observable change in % canopy cover in response to the policy enactment. "
   ]
  },
  {
   "cell_type": "code",
   "execution_count": null,
   "id": "901c8eb4",
   "metadata": {},
   "outputs": [],
   "source": []
  }
 ],
 "metadata": {
  "kernelspec": {
   "display_name": "Python 3 (ipykernel)",
   "language": "python",
   "name": "python3"
  },
  "language_info": {
   "codemirror_mode": {
    "name": "ipython",
    "version": 3
   },
   "file_extension": ".py",
   "mimetype": "text/x-python",
   "name": "python",
   "nbconvert_exporter": "python",
   "pygments_lexer": "ipython3",
   "version": "3.8.12"
  },
  "varInspector": {
   "cols": {
    "lenName": 16,
    "lenType": 16,
    "lenVar": 40
   },
   "kernels_config": {
    "python": {
     "delete_cmd_postfix": "",
     "delete_cmd_prefix": "del ",
     "library": "var_list.py",
     "varRefreshCmd": "print(var_dic_list())"
    },
    "r": {
     "delete_cmd_postfix": ") ",
     "delete_cmd_prefix": "rm(",
     "library": "var_list.r",
     "varRefreshCmd": "cat(var_dic_list()) "
    }
   },
   "types_to_exclude": [
    "module",
    "function",
    "builtin_function_or_method",
    "instance",
    "_Feature"
   ],
   "window_display": false
  }
 },
 "nbformat": 4,
 "nbformat_minor": 5
}
