{
 "cells": [
  {
   "cell_type": "markdown",
   "id": "0323ec0c",
   "metadata": {},
   "source": [
    "# Los Angeles County Urban Tree Canopy and Historical Redlining  \n",
    "#### Due 2021-11-19\n",
    "#### EDS 220: Remote Sensing "
   ]
  },
  {
   "cell_type": "markdown",
   "id": "30635538",
   "metadata": {},
   "source": [
    "# Authors\n",
    "- [Paloma Cartwright](https://palomacartwright.github.io), UC Santa Barbara (palomacartwright@bren.ucsb.edu)\n",
    "- [Halina Do-Linh](hdolinh.github.io/), UC Santa Barbara (halina@bren.ucsb.edu)\n",
    "- [Mia Forsline](https://miaforsline.github.io/), UC Santa Barbara (mforsline@bren.ucsb.edu)"
   ]
  },
  {
   "cell_type": "markdown",
   "id": "e0d653b5",
   "metadata": {},
   "source": [
    "# Table of Contents \n",
    "[1. Purpose](#purpose)\n",
    "\n",
    "[2. Dataset Description](#data)\n",
    "\n",
    "[3. Data I/O](#load) - Paloma \n",
    "- [3.1. Load LA County Shapefile](#shp)\n",
    "- [3.2. Load TreePeople Urban Tree Canopy Data](#can)\n",
    "- [3.3. Load Historical Redlining Data](#redlining)\n",
    "\n",
    "[4. Metadata Display and Basic Visualization](#display) - Mia \n",
    "- [4.1. Canopy Data Wrangling](#wrangle)\n",
    "- [4.2. Plot Percentage Tree Canopy](#canplot)\n",
    "- [4.3. Plot Historical Redlining](#redplot)\n",
    "- [Bonus: Plot Impervious Surfaces from LA County Data](#imperv)\n",
    "\n",
    "[5. Use Case Example](#usecase) - Halina \n",
    "- [5.1. Composite Map: canopy cover and redlining](#composite)\n",
    "\n",
    "[6. Create Binder Environment](#binder)\n",
    "\n",
    "[7. References](#references)"
   ]
  },
  {
   "cell_type": "markdown",
   "id": "c21b71bc",
   "metadata": {},
   "source": [
    "<a id='purpose'></a> \n",
    "## Purpose\n",
    "This notebook aims to explore the relationship between the percentage of modern tree canopy cover and historical 1939 redlining in Los Angeles County.\n",
    "\n",
    "According to the USDA Forest Service (Grove & Locke, 2011), urban tree-canopy cover provides vital ecosystem services such as reducing summer peak temperatures and air pollution as well as providing habitat for wildlife. The presence of trees also enhances property values and offers aesthetic benefits. More importantly, by reducing summer heat temperatures, trees can mitigate the urban heat island effect, in which urban climates are warmer than the surrounding rural areas (Oke 1981).\n",
    "\n",
    "The development of modern green spaces is known to be correlated with historical redlining practices (Nardone et al. 2021). \"Redlining\" is the term for historic race-based exclusionary practices in real estate from racial steering to racial barring in many suburbs and developments in America during the 1930s. Areas were graded A (\"best\") through D (\"hazardous\") to guide bank lending policies, with predominantly White and/or affluent areas often receiving grades of A or B (Krieger et al. 2020). These actions all contributed to racial segregation and shaped the way America looks today.\n",
    "\n",
    "To examine the link between modern urban tree cover and historical redlining, we map the percentage of tree canopy cover in 2014, the grades assigned to residential areas by the federal government's Home Owners' Loan Corporation, and a composite map of both tree canopy cover and grades. We expect historical residential areas with the highest grade of A to demonstrate the highest percentage of modern tree canopy cover."
   ]
  },
  {
   "cell_type": "markdown",
   "id": "2ca1efbb",
   "metadata": {},
   "source": [
    "<a id='data'></a> \n",
    "## Dataset Description\n",
    "### 1. [Tree Canopy in Urban and Non-Urban LA County (2014)](https://data.lacounty.gov/Sustainability/Tree-Canopy-in-Urban-and-Non-Urban-LA-County-2014-/kf6c-hxgf)\n",
    "This dataset contains LA County tree canopy data from the LA County tree canopy data from TreePeople and the University of Vermont as well as LA County land cover data and 2014 imagery from the Los Angeles Regional Imagery Acquisition Consortium. The tree canopy data are a CSV file with polygon geometries and tree canopy cover percentages for different census blocks in LA County. The land cover data are shapefiles. We retrieved the data from the [County of Los Angeles Open Data](https://data.lacounty.gov/). One issue with this data is the lack of descriptive metadata. As a result, we focused on analyzing self-explanatory variables such as tree canopy (`'Can_P'`) and impervious surfaces (`'imperv_p'`). \n",
    "\n",
    "### 2. [Mapping Inequality](https://dsl.richmond.edu/panorama/redlining/#loc=5/39.1/-94.58&text=downloads)\n",
    "This dataset contains shapefiles of the Home Owners' Loan Corporation map for Los Angeles in 1939 illustrating the grades (A-D) for each region. We retrieved the data from the University of Richmond's [Mapping Inequality project](https://dsl.richmond.edu/panorama/redlining/#loc=5/39.1/-94.58&text=downloads). All of *Mapping Inequality*'s spatial, textual, and other data are licensed under a Creative Commons Attribution-NonCommercial-ShareAlike 4.0 International License. One issue with this dataset is that the historical spatial extent does not match up perfectly with modern LA County. There are a lot of gaps where the tree canopy cover and redlining data do not align, making it somewhat difficult to draw conclusions. "
   ]
  },
  {
   "cell_type": "markdown",
   "id": "0a7e75f1",
   "metadata": {},
   "source": [
    "<a id='load'></a>\n",
    "# Dataset I/O \n",
    "\n",
    "## Importing all necessary packages "
   ]
  },
  {
   "cell_type": "code",
   "execution_count": 1,
   "id": "f7602f90",
   "metadata": {},
   "outputs": [],
   "source": [
    "import geopandas as gpd \n",
    "import pandas as pd\n",
    "import rasterio as rio\n",
    "from rasterio.plot import show\n",
    "import matplotlib.image as mpimg\n",
    "import matplotlib.pyplot as plt\n",
    "import cartopy.crs as ccrs\n",
    "import contextily as ctx\n",
    "%matplotlib inline"
   ]
  },
  {
   "cell_type": "markdown",
   "id": "e6189f5b-1e93-48ae-afc8-0c288487660a",
   "metadata": {},
   "source": [
    "<a id='shp'></a> \n",
    "## Load the LA County Shapefile  \n",
    "\n",
    "Read in LA County shapefile from the data folder using `geopandas` as area of interest and set the correct CRS. "
   ]
  },
  {
   "cell_type": "code",
   "execution_count": 2,
   "id": "8edf80c5-b2f1-4335-8372-760aed905186",
   "metadata": {},
   "outputs": [],
   "source": [
    "# Read in the LA County shapefile\n",
    "\n",
    "# Set the CRS to WGS 84\n",
    "# Allow_override = True because it was set to WGS84(DD) \n",
    "# This is not exactly the same as the others so we changed it\n"
   ]
  },
  {
   "cell_type": "markdown",
   "id": "69222ee8-0e0b-4b63-9231-09a66972dce9",
   "metadata": {},
   "source": [
    "<a id='can'></a>\n",
    "## Load TreePeople Urban Tree Canopy Data \n",
    "\n",
    "Read in the csv containing tree canopy data from the data folder using `geopandas` and set the correct CRS."
   ]
  },
  {
   "cell_type": "code",
   "execution_count": 3,
   "id": "cbe1dd5b-f062-4a59-a3c2-22c87595d5f9",
   "metadata": {},
   "outputs": [],
   "source": [
    "# Read in LA County Tree Canopy csv file \n",
    "\n",
    "\n",
    "# Set the CRS to WGS 84\n"
   ]
  },
  {
   "cell_type": "markdown",
   "id": "cf206f86-8033-4d16-b823-fc666882706f",
   "metadata": {},
   "source": [
    "<a id='redlining'></a>\n",
    "## Load Historical Redlining Data \n",
    "\n",
    "Read in the Historical Redlining File data from the data folder using `geopandas` and set the correct CRS."
   ]
  },
  {
   "cell_type": "code",
   "execution_count": 4,
   "id": "acfabdb3-01d4-4688-a619-33599ffac9f0",
   "metadata": {},
   "outputs": [],
   "source": [
    "# Read in the redlining data \n",
    "\n",
    "\n",
    "# Set the crs \n"
   ]
  },
  {
   "cell_type": "markdown",
   "id": "f2cdf5b6-73dc-4ef2-ac49-3abe65338a19",
   "metadata": {},
   "source": [
    "<a id='display'></a>\n",
    "# Metadata Display and Basic Visualization"
   ]
  },
  {
   "cell_type": "markdown",
   "id": "502b1549-3286-4489-a15f-47fc80be3c8c",
   "metadata": {},
   "source": [
    "<a id='wrangle'></a>\n",
    "## Bootstrap the Canopy Geometries\n",
    "\n",
    "Convert latitudinal and longitudinal data points to spatial geometries."
   ]
  },
  {
   "cell_type": "code",
   "execution_count": 5,
   "id": "716fb7e6-1898-45a8-8710-828218752d41",
   "metadata": {},
   "outputs": [],
   "source": [
    "# Check the contents of the TreeCanopy Data\n",
    "# Note tcLA (tree canopy LA) has a `the_geom` column \n",
    "# Note tcLA has an empty `geometry` column\n"
   ]
  },
  {
   "cell_type": "code",
   "execution_count": 6,
   "id": "397b050e-e577-427e-ae59-f66270e32c32",
   "metadata": {},
   "outputs": [],
   "source": [
    "# Note tcLA's `Can_P` column \n"
   ]
  },
  {
   "cell_type": "code",
   "execution_count": 7,
   "id": "8001244a-2f30-434c-b096-af68145d1c5f",
   "metadata": {},
   "outputs": [],
   "source": [
    "# Move the geometry info from `the_geom` column to new `geometry` column \n",
    "\n",
    "\n",
    "# Create a GeoSeries from the Well Known Text\n",
    "\n",
    "\n",
    "# Create a GeoDataFrame from the GeoSeries\n",
    "\n",
    "# Check CRS is in WGS 84 \n"
   ]
  },
  {
   "cell_type": "code",
   "execution_count": 8,
   "id": "f96d647a-70be-4672-9931-f32590813beb",
   "metadata": {},
   "outputs": [],
   "source": [
    "# Ensure % canopy cover (Can_P) is a numeric column \n",
    "\n",
    "# Ensure you can calculate a mean/max/etc. \n",
    "\n",
    "\n",
    "# Check `Can_P` is a numeric (float64)\n",
    "# Check `geometry` is a geometry\n"
   ]
  },
  {
   "cell_type": "markdown",
   "id": "78548a6b",
   "metadata": {},
   "source": [
    "<a id='canplot'></a>\n",
    "## Plot Percentage Canopy Cover "
   ]
  },
  {
   "cell_type": "code",
   "execution_count": 9,
   "id": "12505427",
   "metadata": {},
   "outputs": [],
   "source": [
    "# Set projection to Plate Carreé\n",
    "\n",
    "# Set figure and axes\n",
    "\n",
    "# Plot % canopy cover in LA County \n",
    "\n",
    "\n",
    "# Add `contextily` base map underneath  \n",
    "\n",
    " \n",
    "# Add title and axes titles \n"
   ]
  },
  {
   "cell_type": "markdown",
   "id": "6f477ada",
   "metadata": {},
   "source": [
    "### Calculate Canopy Statistics"
   ]
  },
  {
   "cell_type": "code",
   "execution_count": 10,
   "id": "77fd6e88",
   "metadata": {},
   "outputs": [],
   "source": [
    "# Calculate mean\n",
    "\n",
    "# Calculate max\n",
    "\n",
    "# Calculate min\n",
    "\n",
    "# Create print statements of mean, max, and min\n",
    "\n"
   ]
  },
  {
   "cell_type": "markdown",
   "id": "d291003c",
   "metadata": {},
   "source": [
    "# 1939 Historical Redlining in LA County \n",
    "Check the geometries are intact before plotting"
   ]
  },
  {
   "cell_type": "code",
   "execution_count": 11,
   "id": "6560c71f",
   "metadata": {},
   "outputs": [],
   "source": [
    "# Use head to check geometries\n"
   ]
  },
  {
   "cell_type": "markdown",
   "id": "3ee349af",
   "metadata": {},
   "source": [
    "<a id='redplot'></a>\n",
    "## Plot redlining map "
   ]
  },
  {
   "cell_type": "code",
   "execution_count": 12,
   "id": "a62c6f4a",
   "metadata": {},
   "outputs": [],
   "source": [
    "# Set projection to Plate Carreé\n",
    "\n",
    "# Set figure and axes\n",
    "\n",
    "# Plot redlining map of LA County\n",
    "# Set legend parameters\n",
    "\n",
    "\n",
    "# Add `contextily` base map underneath \n"
   ]
  },
  {
   "cell_type": "markdown",
   "id": "4b86be8b",
   "metadata": {},
   "source": [
    "<a id='imperv'></a>\n",
    "## Plot impervious surfaces"
   ]
  },
  {
   "cell_type": "code",
   "execution_count": 13,
   "id": "6fbed4a1-3c6f-4adb-8a65-8f054faa7252",
   "metadata": {},
   "outputs": [],
   "source": [
    "# Set projection to Plate Carreé\n",
    "# Plot % impervious surfaces in LA County \n",
    "# Add `contextily` base map underneath \n",
    "\n",
    "\n",
    "# Name AOI\n",
    "\n",
    "\n",
    "# Add `contextily` base map underneath  \n",
    " \n",
    "\n",
    "# Add title and axes titles \n",
    "\n",
    "\n"
   ]
  },
  {
   "cell_type": "code",
   "execution_count": 15,
   "id": "40a439ce",
   "metadata": {},
   "outputs": [],
   "source": [
    "# Note other variables we can plot use head to explore\n"
   ]
  },
  {
   "cell_type": "markdown",
   "id": "954ddca5",
   "metadata": {},
   "source": [
    "<a id='usecase'></a> \n",
    "# Use Case Example"
   ]
  },
  {
   "cell_type": "markdown",
   "id": "2ff500e0",
   "metadata": {},
   "source": [
    "<a id='composite'></a> \n",
    "## Composite Map: canopy cover and redlining \n",
    "This 2014 Los Angeles County urban tree cover data is appropriate for identifying areas in LA County with relatively higher or lower tree canopy cover based on the calculated % canopy coverage. Combined with other data sets, this could help answer a variety of interesting questions. For this use case example, we are going to overlay a map of historical redlining in LA to investigate how historical inequalities might have influenced today's urban forest. Our target audience are LA policymakers and any stakeholders invovled in urban forestry. This data is particularly important for LA policymakers to consider since it has been found that tree canopy on residential parcels have been declining significantly since 1990 (Galvin et al., 2019) and we know that tree canopy provides numerous health and environmental benefits. Furthermore, this could help idenitify communities who need tree canopy the most, especially those who have been historically discriminated against. "
   ]
  },
  {
   "cell_type": "code",
   "execution_count": 17,
   "id": "638a29a7",
   "metadata": {},
   "outputs": [],
   "source": [
    "# Set projection to Plate Carree\n",
    "\n",
    "\n",
    "# Set figure and axes \n",
    "\n",
    "\n",
    "# Plot % canopy cover in LA County \n",
    "\n",
    "\n",
    "# Plot redlining map  \n",
    "\n",
    "\n",
    "# Add basemap \n",
    "\n",
    "\n",
    "# Add title and axes titles \n",
    "\n",
    "\n"
   ]
  },
  {
   "cell_type": "markdown",
   "id": "7e5acee2",
   "metadata": {},
   "source": [
    "Tree canopy cover and historical redlining are still relevant today. In 2019, Mayor Eric Garcetti released the Green New Deal - an ambitious plan to address environmental challenges in Los Angeles. The plan includes two primary urban forestry goals: plant 90,000 trees by 2021 and increase tree canopy in areas of greatest need by at least 50% by 2028 (Garcetti 2019). As of September 2021, over 52,000 trees have been planted (Lopez & Drechsler, 2021). With approximately 40,000 trees to be planted, we could check the progress of these goals by comparing 2014 tree canopy data with the most up-to-date data. Additionally, we could compare recent tree canopy data with historical redlining to see if current tree planting efforts are considering historical discrimination.\n",
    "\n",
    "\n",
    "- mapping historical native tree species"
   ]
  },
  {
   "cell_type": "markdown",
   "id": "eab0c0a3-1958-415d-9bd2-deef99454de1",
   "metadata": {},
   "source": [
    "# Deleted Bits\n",
    "\n",
    "This gives a snapshot of what tree canopy cover looked like during this year. \n",
    "\n",
    "For example, we could compare 2014 LA County tree cover with socioeconomic data such as 2014 annual average/median income or ethnicity/race to determine if there are correlations between greenery in LA and socioeconomic status. \n",
    "\n",
    "today's built environment. \n",
    "\n",
    "In addition to comparing various data within the same year, we could overlay a map of historical redlining in LA to investigate how historical inequalities might have influenced today's built environment. Similarly, we could compare tree canopy cover data in LA County from a different year to explore changes over time. For instance, if a tree policy was enacted after 2014, we could compare 2014 and 2020 tree canopy cover data to see if there was an observable change in % canopy cover in response to the policy enactment.\n",
    "\n",
    "this data use case example could be updated the most up-to-date % canopy cover data \n",
    "\n",
    "still overlay with the historical redlining map. \n",
    "\n",
    "could be used to determine which areas are in highest need of tree canopy considering modern tree canopy data and historical redlining. Our target users and audience would be organizations and communities who are stakeholders in tree planting efforts, and the City of LA's Green New Deal pLAn team. \n",
    "\n",
    "\n",
    "A discussion of the results and how they might be extended on further analysis. For example, we are doing El Nino/La Nina composites in class; a natural extension might be to look at individual events to see what their particular impacts were. Or if there are data quality issues which impact the results, you could discuss how these might be mitigated with additional information/analysis."
   ]
  },
  {
   "cell_type": "markdown",
   "id": "a2444456",
   "metadata": {},
   "source": [
    "The **Tree Canopy in Urban and Non-Urban LA County (2014)** dataset we downloaded from LA County's Open Data site is a combination of two datasets:\n",
    "\n",
    "1. LA County tree canopy data from TreePeople and the University of Vermont.\n",
    "2. 2014 imagery of LA County land cover data from the Los Angeles Regional Imagery Acquistion Consortium (LARIAC).\n",
    "\n",
    "There is more data collection information and metadata about the land cover data than there is about the tree canopy data. We have reached out to the data owners requesting more metadata, but have not received a response yet. \n",
    "\n",
    "Additionally, the data set was combined with census tract data. \n",
    "\n",
    "The tree canopy data used high-resolution remote sensing data to create fine scale 8-class land cover. From the 2015 *Tree Canopy Assessment: Los Angeles Coastal Zone* report, it appears high resolution land cover data from 2014 was combined with LiDAR data from 2009 to obtain inforamation about the structure of urban forests. With this data, individual trees could be detected (i.e. as small as 8ft) and it is currently the most accurate accounting of tree canopy ever completed for LA.\n",
    "\n",
    "Because there is limited metadata on the tree canopy data that was acquired using LiDAR, we can not determine if there is any systematic biases or limitation from the instruments used for the LiDAR data. \n",
    "\n",
    "The land cover data comes from the LARIAC which is a program for obtaining digital aerial imagery data in collaboration with 30+ County departments, 40+ municipalities, and other public agencies. Since the data is used for multiple and varying reasons for numerous agencies, the data is of high quality and is easily accessible. \n",
    "\n",
    "LARIAC captures ortho and oblique imagery every 3 years. Ortho imagery removes the effects of tilt and relief to show the true features of the image. Oblique imagery is aerial photography that is collected at an angle (usually 40 or 50 degrees) which allows viewers to see the sides of objects in addition to the top of objects and gives a more natural viewing of the landscape. \n",
    "\n",
    "Collection and post-processing of the LARIAC land cover data was done by the company, EagleView. The processed imagery produced a 4-band (RGBNIR), 32-bit (8-bit per channel) digital orthophotos at 4-inch and 9-inch pixel resolution for project areas with no overlap between areas. The 4 x 9 inch pixels were color balanced independently. \n",
    "\n",
    "After post-processing, the imagery undergoes rigorous quality assurance and quality control by Dewberry Engingeers Inc. From the QA/QC report we did not see any systematic biases or limitations listed about the instruments.\n",
    "\n",
    "\n",
    "The most significant limitation with the **Tree Canopy in Urban and Non-Urban LA County (2014)** dataset is that it is outdated. Both datasets are more than 5 years old. However, LARIAC land cover data has been udpated with 2020 data and it is possible for us to combine tree canopy data with the 2020 land cover data."
   ]
  },
  {
   "cell_type": "markdown",
   "id": "0f3bdde6",
   "metadata": {},
   "source": [
    "<a id='binder'></a> \n",
    "# Binder Environment\n",
    "[README launch binder link](https://github.com/la-tree/notebook#readme)"
   ]
  },
  {
   "cell_type": "markdown",
   "id": "2e464ed1",
   "metadata": {
    "tags": []
   },
   "source": [
    "<a id='references'></a> \n",
    "# References\n",
    "\n",
    "1. Galvin, Mike, et al. Los Angeles County Tree Canopy Assessment. SavATree Consulting Group, 24 Apr. 2019, https://www.treepeople.org/wp-content/uploads/2020/08/Tree-Canopy-LA-2016-Final-Report.pdf.\n",
    "2. Garcetti, Mayor Eric. L.A.’s Green New Deal: Sustainable City PLAn. 2019, p. 152.\n",
    "3. Grove, J. M., & Locke, D. (2011). Urban Tree Canopy Prioritization (UTC). Nature Precedings. https://doi.org/10.1038/npre.2011.6368.1\n",
    "4. Krieger, N., Van Wye, G., Huynh, M., Waterman, P. D., Maduro, G., Li, W., Gwynn, R. C., Barbot, O., & Bassett, M. T. (2020). Structural Racism, Historical Redlining, and Risk of Preterm Birth in New York City, 2013–2017. American Journal of Public Health, 110(7), 1046–1053. https://doi.org/10.2105/AJPH.2020.305656\n",
    "5. Lopez, L., & Drechsler, P. “One Tree at a Time: LA Cooling Underprivileged Urban Areas.” NBC Los Angeles, 22 Sept. 2021, https://www.nbclosangeles.com/news/local/one-tree-at-a-time-la-cooling-underprivileged-urban-areas/2698849/. Accessed 16 Nov. 2021.\n",
    "6. Nardone, A., Rudolph, K. E., Morello-Frosch, R., & Casey, J. A. (2021). Redlines and Greenspace: The Relationship between Historical Redlining and 2010 Greenspace across the United States. Environmental Health Perspectives, 129(1), 017006. https://doi.org/10.1289/EHP7495\n",
    "7. Nelson, R.K., Winling L., Marciano R., Connolly N., et al., “Mapping Inequality,” American Panorama, ed. Robert K. Nelson and Edward L. Ayers, accessed November 15, 2021, https://dsl.richmond.edu/panorama/redlining/#loc=5/39.1/-94.58&text=downloads.\n",
    "8. Oke, T. R. (1981). Canyon geometry and the nocturnal urban heat island: Comparison of scale model and field observations. Journal of Climatology, 1(3), 237–254. https://doi.org/10.1002/joc.3370010304\n",
    "\n"
   ]
  }
 ],
 "metadata": {
  "kernelspec": {
   "display_name": "Python 3 (ipykernel)",
   "language": "python",
   "name": "python3"
  },
  "language_info": {
   "codemirror_mode": {
    "name": "ipython",
    "version": 3
   },
   "file_extension": ".py",
   "mimetype": "text/x-python",
   "name": "python",
   "nbconvert_exporter": "python",
   "pygments_lexer": "ipython3",
   "version": "3.7.11"
  },
  "varInspector": {
   "cols": {
    "lenName": 16,
    "lenType": 16,
    "lenVar": 40
   },
   "kernels_config": {
    "python": {
     "delete_cmd_postfix": "",
     "delete_cmd_prefix": "del ",
     "library": "var_list.py",
     "varRefreshCmd": "print(var_dic_list())"
    },
    "r": {
     "delete_cmd_postfix": ") ",
     "delete_cmd_prefix": "rm(",
     "library": "var_list.r",
     "varRefreshCmd": "cat(var_dic_list()) "
    }
   },
   "types_to_exclude": [
    "module",
    "function",
    "builtin_function_or_method",
    "instance",
    "_Feature"
   ],
   "window_display": false
  }
 },
 "nbformat": 4,
 "nbformat_minor": 5
}
