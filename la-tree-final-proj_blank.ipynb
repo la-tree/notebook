{
 "cells": [
  {
   "cell_type": "markdown",
   "id": "0323ec0c",
   "metadata": {},
   "source": [
    "# Los Angeles County Urban Tree Canopy and Historical Redlining  \n",
    "#### Due 2021-11-19\n",
    "#### EDS 220: Remote Sensing "
   ]
  },
  {
   "cell_type": "markdown",
   "id": "30635538",
   "metadata": {},
   "source": [
    "# Authors\n",
    "- [Paloma Cartwright](https://palomacartwright.github.io), UC Santa Barbara (palomacartwright@bren.ucsb.edu)\n",
    "- [Halina Do-Linh](https://hdolinh.github.io/), UC Santa Barbara (halina@bren.ucsb.edu)\n",
    "- [Mia Forsline](https://miaforsline.github.io/), UC Santa Barbara (mforsline@bren.ucsb.edu)"
   ]
  },
  {
   "cell_type": "markdown",
   "id": "e0d653b5",
   "metadata": {},
   "source": [
    "# Table of Contents \n",
    "[1. Purpose](#purpose)\n",
    "\n",
    "[2. Dataset Description](#data)\n",
    "\n",
    "[3. Data I/O](#load)\n",
    "- [3.1. Load LA County Shapefile](#shp)\n",
    "- [3.2. Load TreePeople Urban Tree Canopy Data](#can)\n",
    "- [3.3. Load Historical Redlining Data](#redlining)\n",
    "\n",
    "[4. Metadata Display and Basic Visualization](#display) \n",
    "- [4.1. Canopy Data Wrangling](#wrangle)\n",
    "- [4.2. Plot Percentage Tree Canopy](#canplot)\n",
    "- [4.3. Plot Historical Redlining](#redplot)\n",
    "- [Bonus: Plot Impervious Surfaces from LA County Data](#imperv)\n",
    "\n",
    "[5. Use Case Example](#usecase)\n",
    "- [5.1. Composite Map: canopy cover and redlining](#composite)\n",
    "\n",
    "[6. Create Binder Environment](#binder)\n",
    "\n",
    "[7. References](#references)"
   ]
  },
  {
   "cell_type": "markdown",
   "id": "c21b71bc",
   "metadata": {},
   "source": [
    "<a id='purpose'></a> \n",
    "## Purpose\n",
    "This notebook aims to explore the relationship between the percentage of modern tree canopy cover and historical 1939 redlining in Los Angeles County.\n",
    "\n",
    "According to the USDA Forest Service (Grove & Locke, 2011), urban tree-canopy cover provides vital ecosystem services such as reducing summer peak temperatures and air pollution as well as providing habitat for wildlife. The presence of trees also enhances property values and offers aesthetic benefits. More importantly, by reducing summer heat temperatures, trees can mitigate the urban heat island effect, in which urban climates are warmer than the surrounding rural areas (Oke 1981).\n",
    "\n",
    "The development of modern green spaces is known to be correlated with historical redlining practices (Nardone et al. 2021). \"Redlining\" is the term for historic race-based exclusionary practices in real estate from racial steering to racial barring in many suburbs and developments in America during the 1930s. Neighborhoods were graded A (\"best\") through D (\"hazardous\") to guide bank lending policies, with predominantly White and/or affluent areas often receiving grades of A or B (Krieger et al. 2020). These actions all contributed to racial segregation and shaped the way America looks today.\n",
    "\n",
    "To examine the link between modern urban tree cover and historical redlining, we map the percentage of tree canopy cover in 2014, the grades assigned to residential areas by the federal government's Home Owners' Loan Corporation, and a composite map of both tree canopy cover and grades. We expect historical residential areas with the highest grade of A to demonstrate the highest percentage of modern tree canopy cover."
   ]
  },
  {
   "cell_type": "markdown",
   "id": "2ca1efbb",
   "metadata": {},
   "source": [
    "<a id='data'></a> \n",
    "## Dataset Description\n",
    "### 1. [Tree Canopy in Urban and Non-Urban LA County (2014)](https://data.lacounty.gov/Sustainability/Tree-Canopy-in-Urban-and-Non-Urban-LA-County-2014-/kf6c-hxgf)\n",
    "This dataset is a combination of tree canopy data and land cover imagery data of LA County. Tree canopy data comes from [TreePeople](https://www.treepeople.org/), an environmental nonprofit that promote sustainable urban ecosystems, and the University of Vermont. The tree canopy data are a CSV file with polygon geometries from census tracts and tree canopy cover percentages for different census blocks. The Los Angeles Regional Imagery Acquisition Consortium (LARIAC) provided land cover 2014 imagery data obtained through aerial surveys. The land cover imagery data are shapefiles. We retrieved the data from the [County of Los Angeles Open Data](https://data.lacounty.gov/). One issue with this combined dataset is there is no descriptive metadata for the tree canopy data (i.e. no descriptions of variables). Metadata for the land cover 2014 imagery data can be found on [LARIAC's website](https://lariac-lacounty.hub.arcgis.com/pages/lariac5-documents-datahttps://lariac-lacounty.hub.arcgis.com/pages/lariac5-documents-data). Due to these issues, we focused on analyzing self-explanatory variables such as tree canopy (`'Can_P'`) and impervious surfaces (`'imperv_p'`). \n",
    "\n",
    "### 2. [Mapping Inequality](https://dsl.richmond.edu/panorama/redlining/#loc=5/39.1/-94.58&text=downloads)\n",
    "This dataset contains shapefiles of the Home Owners' Loan Corporation map for Los Angeles in 1939 illustrating the grades (A-D) for each neighborhood. We retrieved the data from the University of Richmond's [Mapping Inequality project](https://dsl.richmond.edu/panorama/redlining/#loc=5/39.1/-94.58&text=downloads). All of *Mapping Inequality*'s spatial, textual, and other data are licensed under a Creative Commons Attribution-NonCommercial-ShareAlike 4.0 International License. One issue with this dataset is that the historical spatial extent does not match up perfectly with modern LA County. There are a lot of gaps where the tree canopy cover and redlining data do not align, making it somewhat difficult to draw conclusions. "
   ]
  },
  {
   "cell_type": "markdown",
   "id": "0a7e75f1",
   "metadata": {},
   "source": [
    "<a id='load'></a>\n",
    "# Dataset I/O \n",
    "\n",
    "## Importing all necessary packages "
   ]
  },
  {
   "cell_type": "code",
   "execution_count": 1,
   "id": "f7602f90",
   "metadata": {},
   "outputs": [],
   "source": [
    "import geopandas as gpd \n",
    "import pandas as pd\n",
    "import matplotlib.pyplot as plt\n",
    "import cartopy.crs as ccrs\n",
    "import contextily as ctx"
   ]
  },
  {
   "cell_type": "code",
   "execution_count": 2,
   "id": "f55d7292-d82e-4bbb-8f50-c021b220e301",
   "metadata": {},
   "outputs": [
    {
     "name": "stdout",
     "output_type": "stream",
     "text": [
      "0.10.2+7.g17fe21e\n"
     ]
    }
   ],
   "source": [
    "#check that `geopandas` vesion is 0.10.2+7.g17fe21e in order to use interactive map features\n",
    "print(gpd.__version__)"
   ]
  },
  {
   "cell_type": "markdown",
   "id": "e6189f5b-1e93-48ae-afc8-0c288487660a",
   "metadata": {},
   "source": [
    "<a id='shp'></a> \n",
    "## Load LA County Shapefile  \n",
    "\n",
    "Read in LA County shapefile from the data folder using `geopandas` as area of interest and set the correct Coordinate Reference System (CRS). For LA County, the correct CRS is World Geodetic System 1984 (WGS 84). WGS 84 is a spatial reference system that is commonly used and is appropriate for LA County. The European Petroleum Survey Group (EPSG) code for WGS 84 is 4326."
   ]
  },
  {
   "cell_type": "code",
   "execution_count": null,
   "id": "8edf80c5-b2f1-4335-8372-760aed905186",
   "metadata": {},
   "outputs": [],
   "source": [
    "# Read in the LA County shapefile\n",
    "aoiFile = \"data/Tree_Canopy_LA/geo_export_36bb7874-a8f8-4d1c-b3f3-23eca2fca1af.shp\"\n",
    "\n",
    "\n",
    "# Set the CRS to WGS 84\n",
    "# Allow_override = True because it was set to WGS84(DD) \n",
    "# This is not exactly the same as the others so we changed it\n",
    "\n"
   ]
  },
  {
   "cell_type": "markdown",
   "id": "69222ee8-0e0b-4b63-9231-09a66972dce9",
   "metadata": {},
   "source": [
    "<a id='can'></a>\n",
    "## Load TreePeople Urban Tree Canopy Data \n",
    "\n",
    "Read in the csv containing tree canopy data from the data folder using `geopandas` and set the correct CRS."
   ]
  },
  {
   "cell_type": "code",
   "execution_count": null,
   "id": "cbe1dd5b-f062-4a59-a3c2-22c87595d5f9",
   "metadata": {},
   "outputs": [],
   "source": [
    "# # Read in LA County Tree Canopy csv file \n",
    "treeCanopyFile = 'data/Tree_Canopy_in_Urban_and_Non-Urban_LA_County__2014_.csv'\n",
    "# treeCanopyLA = gpd.read_file(treeCanopyFile)\n",
    "\n",
    "# # Set the CRS to WGS 84\n",
    "# tcLA = treeCanopyLA.set_crs('EPSG:4326')\n"
   ]
  },
  {
   "cell_type": "markdown",
   "id": "cf206f86-8033-4d16-b823-fc666882706f",
   "metadata": {},
   "source": [
    "<a id='redlining'></a>\n",
    "## Load Historical Redlining Data \n",
    "\n",
    "Read in the Historical Redlining File data from the data folder using `geopandas` and set the correct CRS."
   ]
  },
  {
   "cell_type": "code",
   "execution_count": null,
   "id": "acfabdb3-01d4-4688-a619-33599ffac9f0",
   "metadata": {},
   "outputs": [],
   "source": [
    "# # Read in the redlining data \n",
    "redliningFile = 'data/redlining/CALosAngeles1939/cartodb-query.shp'\n",
    "# red = gpd.read_file(redliningFile)\n",
    "\n",
    "# # Set the crs \n",
    "# redlining = red.set_crs('EPSG:4326')\n",
    "# redlining.crs"
   ]
  },
  {
   "cell_type": "markdown",
   "id": "f2cdf5b6-73dc-4ef2-ac49-3abe65338a19",
   "metadata": {},
   "source": [
    "<a id='display'></a>\n",
    "# Metadata Display and Basic Visualization\n",
    "\n",
    "We explored metadata using `head`, `columns`, and created quick basic visualziations of tree canopy. Key statistics about tree canopy that we found to be interesting are higlighted below. \n",
    "\n",
    "We then explored the redlining dataset by creating a quick basic visualization of the shapefiles. "
   ]
  },
  {
   "cell_type": "markdown",
   "id": "502b1549-3286-4489-a15f-47fc80be3c8c",
   "metadata": {},
   "source": [
    "<a id='wrangle'></a>\n",
    "## Canopy Data Wrangling\n",
    "\n",
    "Convert latitudinal and longitudinal data points to geometry class to plot using `geopandas`. We do this through a process called bootstrapping. Bootstrapping is derivng an array of `shapely` point geometries from the latitudinal and longitudinal data, which we used to construct a GeoDataFrame for `geopandas` spatial operations."
   ]
  },
  {
   "cell_type": "code",
   "execution_count": null,
   "id": "716fb7e6-1898-45a8-8710-828218752d41",
   "metadata": {},
   "outputs": [],
   "source": [
    "# Check the contents of the TreeCanopy Data\n",
    "# Note tcLA (tree canopy LA) has a `the_geom` column \n",
    "# Note tcLA has an empty `geometry` column\n"
   ]
  },
  {
   "cell_type": "code",
   "execution_count": null,
   "id": "397b050e-e577-427e-ae59-f66270e32c32",
   "metadata": {},
   "outputs": [],
   "source": [
    "# Note tcLA's `Can_P` column \n"
   ]
  },
  {
   "cell_type": "markdown",
   "id": "cadf2857",
   "metadata": {},
   "source": [
    "### Bootstrap the tree canopy geometries"
   ]
  },
  {
   "cell_type": "code",
   "execution_count": null,
   "id": "8001244a-2f30-434c-b096-af68145d1c5f",
   "metadata": {},
   "outputs": [],
   "source": [
    "# Move the geometry info from `the_geom` column to new `geometry` column \n",
    "\n",
    "\n",
    "# Create a GeoSeries from the Well Known Text\n",
    "\n",
    "\n",
    "# Create a GeoDataFrame from the GeoSeries\n",
    "\n",
    "\n",
    "# Check CRS is in WGS 84 \n"
   ]
  },
  {
   "cell_type": "code",
   "execution_count": null,
   "id": "f96d647a-70be-4672-9931-f32590813beb",
   "metadata": {},
   "outputs": [],
   "source": [
    "# Ensure % canopy cover (Can_P) is a numeric column \n",
    "\n",
    "\n",
    "# Ensure you can calculate a mean/max/etc. \n",
    "\n",
    "\n",
    "# Remove all columns except canopy cover (`Can_P`) and the geometries \n",
    "\n",
    "\n",
    "# Check `Can_P` is a numeric (float64)\n",
    "# Check `geometry` is a geometry\n"
   ]
  },
  {
   "cell_type": "markdown",
   "id": "78548a6b",
   "metadata": {},
   "source": [
    "<a id='canplot'></a>\n",
    "## Plot Percentage Tree Canopy  (static)"
   ]
  },
  {
   "cell_type": "code",
   "execution_count": null,
   "id": "12505427",
   "metadata": {},
   "outputs": [],
   "source": [
    "# Set projection to Plate Carree\n",
    "\n",
    "\n",
    "# Set figure and axes \n",
    "\n",
    "\n",
    "# Can use cmap = \"Greens\" to change color\n",
    "\n",
    "\n",
    "# Add basemap \n",
    "\n",
    "\n",
    "# Add title and axes titles \n",
    "\n"
   ]
  },
  {
   "cell_type": "markdown",
   "id": "cb0937e7",
   "metadata": {},
   "source": [
    "## Plot Percentage Tree Canopy (interactive) "
   ]
  },
  {
   "cell_type": "code",
   "execution_count": null,
   "id": "c32680a9-a018-4461-b4e0-adbaa3413ce4",
   "metadata": {},
   "outputs": [],
   "source": [
    "# # Rename column and round values for cleaner labels later \n",
    "# tcLA_gdf = tcLA_gdf.rename(columns = {'Can_P': '% Canopy Cover'})\n",
    "# tcLA_gdf['% Canopy Cover'] = tcLA_gdf['% Canopy Cover'].round(2)\n",
    "# tcLA_gdf.head()\n",
    "\n",
    "# tcLA_interactive = tcLA_gdf.explore(column = '% Canopy Cover')\n",
    "# tcLA_interactive"
   ]
  },
  {
   "cell_type": "markdown",
   "id": "d291003c",
   "metadata": {},
   "source": [
    "## 1939 Historical Redlining in LA County \n",
    "Check the geometries are intact before plotting"
   ]
  },
  {
   "cell_type": "code",
   "execution_count": 1,
   "id": "6560c71f",
   "metadata": {},
   "outputs": [
    {
     "ename": "NameError",
     "evalue": "name 'red' is not defined",
     "output_type": "error",
     "traceback": [
      "\u001b[0;31m---------------------------------------------------------------------------\u001b[0m",
      "\u001b[0;31mNameError\u001b[0m                                 Traceback (most recent call last)",
      "\u001b[0;32m/var/folders/8s/qv6gw27d6nsbh7wpqhj27p600000gn/T/ipykernel_35587/2665859868.py\u001b[0m in \u001b[0;36m<module>\u001b[0;34m\u001b[0m\n\u001b[0;32m----> 1\u001b[0;31m \u001b[0mred\u001b[0m\u001b[0;34m.\u001b[0m\u001b[0mhead\u001b[0m\u001b[0;34m(\u001b[0m\u001b[0;34m)\u001b[0m\u001b[0;34m\u001b[0m\u001b[0;34m\u001b[0m\u001b[0m\n\u001b[0m",
      "\u001b[0;31mNameError\u001b[0m: name 'red' is not defined"
     ]
    }
   ],
   "source": []
  },
  {
   "cell_type": "markdown",
   "id": "3ee349af",
   "metadata": {},
   "source": [
    "<a id='redplot'></a>\n",
    "### Plot redlining map "
   ]
  },
  {
   "cell_type": "code",
   "execution_count": null,
   "id": "a62c6f4a",
   "metadata": {},
   "outputs": [],
   "source": [
    "# proj = ccrs.PlateCarree()\n",
    "# fig = plt.figure(figsize = (10, 6), dpi = 300)\n",
    "# ax = plt.axes(projection = proj)\n",
    "\n",
    "# red.plot(column = 'holc_grade', \n",
    "#          ax = ax, legend = True, \n",
    "#          cmap = 'YlOrRd', \n",
    "#          legend_kwds = {'title': 'Grade'}, \n",
    "#          alpha = 0.7)\n",
    "\n",
    "# # Add basemap \n",
    "# ctx.add_basemap(ax, crs = 'EPSG:4326', source = ctx.providers.Stamen.TonerLite)"
   ]
  },
  {
   "cell_type": "markdown",
   "id": "954ddca5",
   "metadata": {},
   "source": [
    "<a id='usecase'></a> \n",
    "# Use Case Example"
   ]
  },
  {
   "cell_type": "markdown",
   "id": "2ff500e0",
   "metadata": {},
   "source": [
    "<a id='composite'></a> \n",
    "## Composite Map: canopy cover and redlining \n",
    "This 2014 Los Angeles County urban tree cover data is appropriate for identifying areas in LA County with relatively higher or lower tree canopy cover based on the calculated % canopy coverage. Combined with other data sets, this could help answer a variety of interesting questions. After we looked at both tree canopy and redlining data, we wanted to use these datasets to answer our question how historical redlining may have influenced modern day tree canopy. \n",
    "\n",
    "For this use case example, we are going to overlay a map of historical redlining in LA to investigate how historical inequalities might have influenced today's urban forest. Our target audience are LA policymakers and any stakeholders invovled in urban forestry. This data is particularly important for LA policymakers to consider since it has been found that tree canopy on residential parcels have been declining significantly since 1990 (Galvin et al. 2019) and we know that tree canopy provides numerous health and environmental benefits. Furthermore, this could help idenitify communities who need tree canopy the most, especially those who have been historically discriminated against. "
   ]
  },
  {
   "cell_type": "code",
   "execution_count": null,
   "id": "638a29a7",
   "metadata": {},
   "outputs": [],
   "source": [
    "# Set projection to Plate Carree\n",
    "proj = ccrs.PlateCarree()\n",
    "\n",
    "# Set figure and axes \n",
    "fig = plt.figure(figsize = (10, 6), dpi = 300)\n",
    "ax = plt.axes(projection = proj)\n",
    "\n",
    "# Plot % canopy cover in LA County \n",
    "\n",
    "\n",
    "# Plot redlining map  \n",
    "\n",
    "\n",
    "# Add basemap \n",
    "\n",
    "\n",
    "# Add title and axes titles \n",
    "# plt.title('% Canopy Cover and Redlining in Los Angeles County')\n",
    "# plt.xlabel('Longitude')\n",
    "# plt.ylabel('Latitude')"
   ]
  },
  {
   "cell_type": "markdown",
   "id": "7e5acee2",
   "metadata": {},
   "source": [
    "Tree canopy cover and historical redlining are still relevant today. In 2019, Mayor Eric Garcetti released the Green New Deal - an ambitious plan to address environmental challenges in Los Angeles. The plan includes two primary urban forestry goals: plant 90,000 trees by 2021 and increase tree canopy in areas of greatest need by at least 50% by 2028 (Garcetti 2019). As of September 2021, over 52,000 trees have been planted (Lopez & Drechsler 2021). With approximately 40,000 trees to be planted, we could check the progress of these goals by comparing 2014 tree canopy data with the most up-to-date data. Additionally, we could compare recent tree canopy data with historical redlining to see if current tree planting efforts are considering historical discrimination."
   ]
  },
  {
   "cell_type": "markdown",
   "id": "0f3bdde6",
   "metadata": {},
   "source": [
    "<a id='binder'></a> \n",
    "# Binder Environment\n",
    "\n",
    "[![Binder](https://mybinder.org/badge_logo.svg)](https://mybinder.org/v2/gh/la-tree/notebook/HEAD)"
   ]
  },
  {
   "cell_type": "markdown",
   "id": "2e464ed1",
   "metadata": {},
   "source": [
    "<a id='references'></a> \n",
    "# References\n",
    "\n",
    "1. Galvin, Mike, et al. Los Angeles County Tree Canopy Assessment. SavATree Consulting Group, 24 Apr. 2019, https://www.treepeople.org/wp-content/uploads/2020/08/Tree-Canopy-LA-2016-Final-Report.pdf.\n",
    "2. Garcetti, Mayor Eric. L.A.’s Green New Deal: Sustainable City PLAn. 2019, p. 152.\n",
    "3. Grove, J. M., & Locke, D. (2011). Urban Tree Canopy Prioritization (UTC). Nature Precedings. https://doi.org/10.1038/npre.2011.6368.1\n",
    "4. Krieger, N., Van Wye, G., Huynh, M., Waterman, P. D., Maduro, G., Li, W., Gwynn, R. C., Barbot, O., & Bassett, M. T. (2020). Structural Racism, Historical Redlining, and Risk of Preterm Birth in New York City, 2013–2017. American Journal of Public Health, 110(7), 1046–1053. https://doi.org/10.2105/AJPH.2020.305656\n",
    "5. Lopez, L., & Drechsler, P. “One Tree at a Time: LA Cooling Underprivileged Urban Areas.” NBC Los Angeles, 22 Sept. 2021, https://www.nbclosangeles.com/news/local/one-tree-at-a-time-la-cooling-underprivileged-urban-areas/2698849/. Accessed 16 Nov. 2021.\n",
    "6. Nardone, A., Rudolph, K. E., Morello-Frosch, R., & Casey, J. A. (2021). Redlines and Greenspace: The Relationship between Historical Redlining and 2010 Greenspace across the United States. Environmental Health Perspectives, 129(1), 017006. https://doi.org/10.1289/EHP7495\n",
    "7. Nelson, R.K., Winling L., Marciano R., Connolly N., et al., “Mapping Inequality,” American Panorama, ed. Robert K. Nelson and Edward L. Ayers, accessed November 15, 2021, https://dsl.richmond.edu/panorama/redlining/#loc=5/39.1/-94.58&text=downloads.\n",
    "8. Oke, T. R. (1981). Canyon geometry and the nocturnal urban heat island: Comparison of scale model and field observations. Journal of Climatology, 1(3), 237–254. https://doi.org/10.1002/joc.3370010304\n",
    "\n"
   ]
  }
 ],
 "metadata": {
  "kernelspec": {
   "display_name": "Python 3 (ipykernel)",
   "language": "python",
   "name": "python3"
  },
  "language_info": {
   "codemirror_mode": {
    "name": "ipython",
    "version": 3
   },
   "file_extension": ".py",
   "mimetype": "text/x-python",
   "name": "python",
   "nbconvert_exporter": "python",
   "pygments_lexer": "ipython3",
   "version": "3.7.11"
  },
  "varInspector": {
   "cols": {
    "lenName": 16,
    "lenType": 16,
    "lenVar": 40
   },
   "kernels_config": {
    "python": {
     "delete_cmd_postfix": "",
     "delete_cmd_prefix": "del ",
     "library": "var_list.py",
     "varRefreshCmd": "print(var_dic_list())"
    },
    "r": {
     "delete_cmd_postfix": ") ",
     "delete_cmd_prefix": "rm(",
     "library": "var_list.r",
     "varRefreshCmd": "cat(var_dic_list()) "
    }
   },
   "types_to_exclude": [
    "module",
    "function",
    "builtin_function_or_method",
    "instance",
    "_Feature"
   ],
   "window_display": false
  }
 },
 "nbformat": 4,
 "nbformat_minor": 5
}
